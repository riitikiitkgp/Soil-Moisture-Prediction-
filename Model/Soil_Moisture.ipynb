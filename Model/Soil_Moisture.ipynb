{
 "cells": [
  {
   "cell_type": "code",
   "execution_count": 944,
   "id": "cf7d2afd-2138-4a38-8e20-6e91abcfc423",
   "metadata": {},
   "outputs": [],
   "source": [
    "import pandas as pd\n",
    "import numpy as np\n",
    "import matplotlib.pyplot as plt\n",
    "from sklearn.model_selection import train_test_split\n",
    "from sklearn.ensemble import RandomForestRegressor\n",
    "from sklearn.linear_model import Lasso\n",
    "from sklearn.model_selection import cross_val_score\n",
    "from sklearn.metrics import mean_squared_error"
   ]
  },
  {
   "cell_type": "code",
   "execution_count": 945,
   "id": "fb0df8e9-b428-42d9-9edd-af3d456e105f",
   "metadata": {},
   "outputs": [],
   "source": [
    "vase1 = pd.read_csv('~/Desktop/Archive/vase1.csv')"
   ]
  },
  {
   "cell_type": "code",
   "execution_count": 946,
   "id": "6265fa3b-78a1-49ce-9603-39cb6d40f5c8",
   "metadata": {},
   "outputs": [
    {
     "data": {
      "text/html": [
       "<div>\n",
       "<style scoped>\n",
       "    .dataframe tbody tr th:only-of-type {\n",
       "        vertical-align: middle;\n",
       "    }\n",
       "\n",
       "    .dataframe tbody tr th {\n",
       "        vertical-align: top;\n",
       "    }\n",
       "\n",
       "    .dataframe thead th {\n",
       "        text-align: right;\n",
       "    }\n",
       "</style>\n",
       "<table border=\"1\" class=\"dataframe\">\n",
       "  <thead>\n",
       "    <tr style=\"text-align: right;\">\n",
       "      <th></th>\n",
       "      <th>year</th>\n",
       "      <th>month</th>\n",
       "      <th>day</th>\n",
       "      <th>hour</th>\n",
       "      <th>minute</th>\n",
       "      <th>second</th>\n",
       "      <th>moisture0</th>\n",
       "      <th>moisture1</th>\n",
       "      <th>moisture2</th>\n",
       "      <th>moisture3</th>\n",
       "      <th>moisture4</th>\n",
       "      <th>irrgation</th>\n",
       "    </tr>\n",
       "  </thead>\n",
       "  <tbody>\n",
       "    <tr>\n",
       "      <th>0</th>\n",
       "      <td>2020</td>\n",
       "      <td>3</td>\n",
       "      <td>6</td>\n",
       "      <td>22</td>\n",
       "      <td>16</td>\n",
       "      <td>11</td>\n",
       "      <td>0.33</td>\n",
       "      <td>0.40</td>\n",
       "      <td>0.36</td>\n",
       "      <td>0.23</td>\n",
       "      <td>0.02</td>\n",
       "      <td>False</td>\n",
       "    </tr>\n",
       "    <tr>\n",
       "      <th>1</th>\n",
       "      <td>2020</td>\n",
       "      <td>3</td>\n",
       "      <td>6</td>\n",
       "      <td>22</td>\n",
       "      <td>17</td>\n",
       "      <td>11</td>\n",
       "      <td>0.32</td>\n",
       "      <td>0.39</td>\n",
       "      <td>0.35</td>\n",
       "      <td>0.23</td>\n",
       "      <td>0.02</td>\n",
       "      <td>False</td>\n",
       "    </tr>\n",
       "    <tr>\n",
       "      <th>2</th>\n",
       "      <td>2020</td>\n",
       "      <td>3</td>\n",
       "      <td>6</td>\n",
       "      <td>22</td>\n",
       "      <td>18</td>\n",
       "      <td>11</td>\n",
       "      <td>0.31</td>\n",
       "      <td>0.39</td>\n",
       "      <td>0.34</td>\n",
       "      <td>0.22</td>\n",
       "      <td>0.02</td>\n",
       "      <td>False</td>\n",
       "    </tr>\n",
       "    <tr>\n",
       "      <th>3</th>\n",
       "      <td>2020</td>\n",
       "      <td>3</td>\n",
       "      <td>6</td>\n",
       "      <td>22</td>\n",
       "      <td>19</td>\n",
       "      <td>11</td>\n",
       "      <td>0.30</td>\n",
       "      <td>0.38</td>\n",
       "      <td>0.33</td>\n",
       "      <td>0.21</td>\n",
       "      <td>0.02</td>\n",
       "      <td>False</td>\n",
       "    </tr>\n",
       "    <tr>\n",
       "      <th>4</th>\n",
       "      <td>2020</td>\n",
       "      <td>3</td>\n",
       "      <td>6</td>\n",
       "      <td>22</td>\n",
       "      <td>20</td>\n",
       "      <td>11</td>\n",
       "      <td>0.29</td>\n",
       "      <td>0.38</td>\n",
       "      <td>0.33</td>\n",
       "      <td>0.21</td>\n",
       "      <td>0.02</td>\n",
       "      <td>False</td>\n",
       "    </tr>\n",
       "  </tbody>\n",
       "</table>\n",
       "</div>"
      ],
      "text/plain": [
       "   year  month  day  hour  minute  second  moisture0  moisture1  moisture2  \\\n",
       "0  2020      3    6    22      16      11       0.33       0.40       0.36   \n",
       "1  2020      3    6    22      17      11       0.32       0.39       0.35   \n",
       "2  2020      3    6    22      18      11       0.31       0.39       0.34   \n",
       "3  2020      3    6    22      19      11       0.30       0.38       0.33   \n",
       "4  2020      3    6    22      20      11       0.29       0.38       0.33   \n",
       "\n",
       "   moisture3  moisture4  irrgation  \n",
       "0       0.23       0.02      False  \n",
       "1       0.23       0.02      False  \n",
       "2       0.22       0.02      False  \n",
       "3       0.21       0.02      False  \n",
       "4       0.21       0.02      False  "
      ]
     },
     "execution_count": 946,
     "metadata": {},
     "output_type": "execute_result"
    }
   ],
   "source": [
    "vase1.head()"
   ]
  },
  {
   "cell_type": "code",
   "execution_count": 947,
   "id": "1b03940c-0a93-4f8d-967b-b2cd3231098b",
   "metadata": {},
   "outputs": [
    {
     "data": {
      "text/plain": [
       "(4409, 12)"
      ]
     },
     "execution_count": 947,
     "metadata": {},
     "output_type": "execute_result"
    }
   ],
   "source": [
    "vase1.shape"
   ]
  },
  {
   "cell_type": "code",
   "execution_count": 948,
   "id": "7204eea2-4649-4df3-bb93-dae19b227447",
   "metadata": {},
   "outputs": [
    {
     "data": {
      "text/plain": [
       "<AxesSubplot:>"
      ]
     },
     "execution_count": 948,
     "metadata": {},
     "output_type": "execute_result"
    },
    {
     "data": {
      "image/png": "[encoded data removed]",
      "text/plain": [
       "<Figure size 640x480 with 1 Axes>"
      ]
     },
     "metadata": {},
     "output_type": "display_data"
    }
   ],
   "source": [
    "vase1[['moisture0', 'moisture1','moisture2', 'moisture3']].plot()"
   ]
  },
  {
   "cell_type": "code",
   "execution_count": 949,
   "id": "3c731e97-60fc-408e-91a6-4c4a17e59732",
   "metadata": {},
   "outputs": [],
   "source": [
    "X = vase1.iloc[:,6:10].values\n",
    "y = vase1.iloc[:,-2].values"
   ]
  },
  {
   "cell_type": "code",
   "execution_count": 950,
   "id": "b504b2f2-da93-43c1-86c8-61c59d226425",
   "metadata": {},
   "outputs": [],
   "source": [
    "vase2= pd.read_csv('~/Desktop/Archive/vase2.csv')"
   ]
  },
  {
   "cell_type": "code",
   "execution_count": 951,
   "id": "c2c09d88-d9e8-45e5-a4c3-17098f29791c",
   "metadata": {},
   "outputs": [
    {
     "data": {
      "text/plain": [
       "(10289, 12)"
      ]
     },
     "execution_count": 951,
     "metadata": {},
     "output_type": "execute_result"
    }
   ],
   "source": [
    "vase2.shape"
   ]
  },
  {
   "cell_type": "code",
   "execution_count": 952,
   "id": "6a249f76-d1e4-4f11-8f30-f503285e2daa",
   "metadata": {},
   "outputs": [
    {
     "data": {
      "text/html": [
       "<div>\n",
       "<style scoped>\n",
       "    .dataframe tbody tr th:only-of-type {\n",
       "        vertical-align: middle;\n",
       "    }\n",
       "\n",
       "    .dataframe tbody tr th {\n",
       "        vertical-align: top;\n",
       "    }\n",
       "\n",
       "    .dataframe thead th {\n",
       "        text-align: right;\n",
       "    }\n",
       "</style>\n",
       "<table border=\"1\" class=\"dataframe\">\n",
       "  <thead>\n",
       "    <tr style=\"text-align: right;\">\n",
       "      <th></th>\n",
       "      <th>year</th>\n",
       "      <th>month</th>\n",
       "      <th>day</th>\n",
       "      <th>hour</th>\n",
       "      <th>minute</th>\n",
       "      <th>second</th>\n",
       "      <th>moisture0</th>\n",
       "      <th>moisture1</th>\n",
       "      <th>moisture2</th>\n",
       "      <th>moisture3</th>\n",
       "      <th>moisture4</th>\n",
       "      <th>irrgation</th>\n",
       "    </tr>\n",
       "  </thead>\n",
       "  <tbody>\n",
       "    <tr>\n",
       "      <th>0</th>\n",
       "      <td>2020</td>\n",
       "      <td>3</td>\n",
       "      <td>11</td>\n",
       "      <td>14</td>\n",
       "      <td>44</td>\n",
       "      <td>39</td>\n",
       "      <td>0.59</td>\n",
       "      <td>0.63</td>\n",
       "      <td>0.51</td>\n",
       "      <td>0.45</td>\n",
       "      <td>0.01</td>\n",
       "      <td>False</td>\n",
       "    </tr>\n",
       "    <tr>\n",
       "      <th>1</th>\n",
       "      <td>2020</td>\n",
       "      <td>3</td>\n",
       "      <td>11</td>\n",
       "      <td>14</td>\n",
       "      <td>47</td>\n",
       "      <td>9</td>\n",
       "      <td>0.56</td>\n",
       "      <td>0.60</td>\n",
       "      <td>0.52</td>\n",
       "      <td>0.48</td>\n",
       "      <td>0.01</td>\n",
       "      <td>False</td>\n",
       "    </tr>\n",
       "    <tr>\n",
       "      <th>2</th>\n",
       "      <td>2020</td>\n",
       "      <td>3</td>\n",
       "      <td>11</td>\n",
       "      <td>14</td>\n",
       "      <td>49</td>\n",
       "      <td>39</td>\n",
       "      <td>0.56</td>\n",
       "      <td>0.54</td>\n",
       "      <td>0.54</td>\n",
       "      <td>0.51</td>\n",
       "      <td>0.01</td>\n",
       "      <td>False</td>\n",
       "    </tr>\n",
       "    <tr>\n",
       "      <th>3</th>\n",
       "      <td>2020</td>\n",
       "      <td>3</td>\n",
       "      <td>11</td>\n",
       "      <td>14</td>\n",
       "      <td>52</td>\n",
       "      <td>9</td>\n",
       "      <td>0.56</td>\n",
       "      <td>0.50</td>\n",
       "      <td>0.57</td>\n",
       "      <td>0.51</td>\n",
       "      <td>0.01</td>\n",
       "      <td>False</td>\n",
       "    </tr>\n",
       "    <tr>\n",
       "      <th>4</th>\n",
       "      <td>2020</td>\n",
       "      <td>3</td>\n",
       "      <td>11</td>\n",
       "      <td>14</td>\n",
       "      <td>54</td>\n",
       "      <td>39</td>\n",
       "      <td>0.57</td>\n",
       "      <td>0.53</td>\n",
       "      <td>0.58</td>\n",
       "      <td>0.51</td>\n",
       "      <td>0.01</td>\n",
       "      <td>False</td>\n",
       "    </tr>\n",
       "  </tbody>\n",
       "</table>\n",
       "</div>"
      ],
      "text/plain": [
       "   year  month  day  hour  minute  second  moisture0  moisture1  moisture2  \\\n",
       "0  2020      3   11    14      44      39       0.59       0.63       0.51   \n",
       "1  2020      3   11    14      47       9       0.56       0.60       0.52   \n",
       "2  2020      3   11    14      49      39       0.56       0.54       0.54   \n",
       "3  2020      3   11    14      52       9       0.56       0.50       0.57   \n",
       "4  2020      3   11    14      54      39       0.57       0.53       0.58   \n",
       "\n",
       "   moisture3  moisture4  irrgation  \n",
       "0       0.45       0.01      False  \n",
       "1       0.48       0.01      False  \n",
       "2       0.51       0.01      False  \n",
       "3       0.51       0.01      False  \n",
       "4       0.51       0.01      False  "
      ]
     },
     "execution_count": 952,
     "metadata": {},
     "output_type": "execute_result"
    }
   ],
   "source": [
    "vase2.head()"
   ]
  },
  {
   "cell_type": "code",
   "execution_count": 953,
   "id": "cadfcc36-8c73-4e55-9977-6cb285ef7c8a",
   "metadata": {},
   "outputs": [
    {
     "data": {
      "text/plain": [
       "<AxesSubplot:>"
      ]
     },
     "execution_count": 953,
     "metadata": {},
     "output_type": "execute_result"
    },
    {
     "data": {
      "image/png": "[encoded data removed]",
      "text/plain": [
       "<Figure size 640x480 with 1 Axes>"
      ]
     },
     "metadata": {},
     "output_type": "display_data"
    }
   ],
   "source": [
    "vase2[['moisture0', 'moisture1','moisture2', 'moisture3']].plot()"
   ]
  },
  {
   "cell_type": "code",
   "execution_count": 954,
   "id": "d988bace-bdf1-4e6c-932c-4d0648cb80ea",
   "metadata": {},
   "outputs": [],
   "source": [
    "X2 = vase2.iloc[0:882,6:10].values\n",
    "y2 = vase2.iloc[0:882,-2].values"
   ]
  },
  {
   "cell_type": "code",
   "execution_count": 955,
   "id": "fd2b7a8b-a611-44d7-9ed9-83a27df3b6dd",
   "metadata": {},
   "outputs": [
    {
     "name": "stdout",
     "output_type": "stream",
     "text": [
      "1. Random Forest Regression \n"
     ]
    }
   ],
   "source": [
    "print (\"1. Random Forest Regression \")"
   ]
  },
  {
   "cell_type": "code",
   "execution_count": 956,
   "id": "61d5c245-c9f8-4304-8a65-3ee38eb37404",
   "metadata": {},
   "outputs": [],
   "source": [
    "X_train, X_test, y_train, y_test = train_test_split( X, y, test_size = 0.20, random_state = 0)"
   ]
  },
  {
   "cell_type": "code",
   "execution_count": 957,
   "id": "41d3bb25-9253-4210-bf4a-44c9a3a3b0c1",
   "metadata": {},
   "outputs": [],
   "source": [
    "regressor1 = RandomForestRegressor(n_estimators=100, random_state=0)"
   ]
  },
  {
   "cell_type": "code",
   "execution_count": 958,
   "id": "c1827f61-9292-4206-bf60-ab2115e355a4",
   "metadata": {},
   "outputs": [],
   "source": [
    "regressor1.fit(X_train, y_train)\n",
    "pred_y = regressor1.predict(X_test)"
   ]
  },
  {
   "cell_type": "code",
   "execution_count": 977,
   "id": "27f482ac-655b-4dcf-b529-51cb08cf06e5",
   "metadata": {},
   "outputs": [
    {
     "name": "stdout",
     "output_type": "stream",
     "text": [
      "Actual :  0.02 \t Predicted :  0.020278730158730166\n",
      "Actual :  0.04 \t Predicted :  0.04009999999999998\n",
      "Actual :  0.02 \t Predicted :  0.026499999999999996\n",
      "Actual :  0.03 \t Predicted :  0.030012131630015638\n",
      "Actual :  0.02 \t Predicted :  0.024459761904761904\n",
      "Actual :  0.03 \t Predicted :  0.029999999999999947\n",
      "Actual :  0.03 \t Predicted :  0.029999999999999947\n",
      "Actual :  0.02 \t Predicted :  0.015866666666666675\n",
      "Actual :  0.02 \t Predicted :  0.021153846153846162\n",
      "Actual :  0.03 \t Predicted :  0.030171098760052386\n"
     ]
    }
   ],
   "source": [
    "for i in range (10):\n",
    "    print(\"Actual : \" , y_test[i],\"\\t\", \"Predicted : \", pred_y[i])"
   ]
  },
  {
   "cell_type": "code",
   "execution_count": 960,
   "id": "5ede394d-70a3-4cef-8ca9-410d331af77e",
   "metadata": {},
   "outputs": [
    {
     "name": "stdout",
     "output_type": "stream",
     "text": [
      "Mean Absolute Error :  0.021004783293431945\n"
     ]
    }
   ],
   "source": [
    "from sklearn import metrics\n",
    "print('Mean Absolute Error : ', mean_absolute_error(pred_y, y2))"
   ]
  },
  {
   "cell_type": "code",
   "execution_count": 961,
   "id": "622dd02a-d023-4223-9acc-9b8e0384d64c",
   "metadata": {},
   "outputs": [
    {
     "name": "stdout",
     "output_type": "stream",
     "text": [
      "Training Accuracy :  0.9543140243865802\n"
     ]
    }
   ],
   "source": [
    "from sklearn.metrics import confusion_matrix, accuracy_score\n",
    "print('Training Accuracy : ',regressor1.score(X_train, y_train))"
   ]
  },
  {
   "cell_type": "code",
   "execution_count": 962,
   "id": "a1afc717-1ec9-40e5-a3ba-0a8e021b2b08",
   "metadata": {},
   "outputs": [
    {
     "name": "stdout",
     "output_type": "stream",
     "text": [
      "2. Linear Regression \n"
     ]
    }
   ],
   "source": [
    "print (\"2. Linear Regression \")"
   ]
  },
  {
   "cell_type": "code",
   "execution_count": 963,
   "id": "b0d428d1-9020-4db0-8a09-7cd3fa04dc6b",
   "metadata": {},
   "outputs": [
    {
     "data": {
      "text/plain": [
       "LinearRegression()"
      ]
     },
     "execution_count": 963,
     "metadata": {},
     "output_type": "execute_result"
    }
   ],
   "source": [
    "from sklearn.linear_model import LinearRegression\n",
    "regressor2 = LinearRegression()\n",
    "regressor2.fit(X_train, y_train)"
   ]
  },
  {
   "cell_type": "code",
   "execution_count": 979,
   "id": "39e2d24e-8db3-43b6-8856-405ad9fc796d",
   "metadata": {},
   "outputs": [
    {
     "name": "stdout",
     "output_type": "stream",
     "text": [
      "Actual :  0.02 \t Predicted :  0.018282589802947977\n",
      "Actual :  0.04 \t Predicted :  0.038685303264474905\n",
      "Actual :  0.02 \t Predicted :  0.022212977226018563\n",
      "Actual :  0.03 \t Predicted :  0.029160749197457092\n",
      "Actual :  0.02 \t Predicted :  0.026303807554211446\n",
      "Actual :  0.03 \t Predicted :  0.02595002527346313\n",
      "Actual :  0.03 \t Predicted :  0.02779805263892316\n",
      "Actual :  0.02 \t Predicted :  0.018782996156052494\n",
      "Actual :  0.02 \t Predicted :  0.025047541289853016\n",
      "Actual :  0.03 \t Predicted :  0.0277404817091432\n"
     ]
    }
   ],
   "source": [
    "pred_Y = regressor2.predict(X_test)\n",
    "y2 = vase2.iloc[0:882,-2].values\n",
    "for i in range (10):\n",
    "    print(\"Actual : \" , y_test[i],\"\\t\", \"Predicted : \", pred_Y[i])"
   ]
  },
  {
   "cell_type": "code",
   "execution_count": 980,
   "id": "e88bb09a-dc1b-48a9-916b-5892c6ef4f57",
   "metadata": {},
   "outputs": [
    {
     "name": "stdout",
     "output_type": "stream",
     "text": [
      "Mean Absolute Error :  0.021158904998239726\n"
     ]
    }
   ],
   "source": [
    "print('Mean Absolute Error : ', mean_absolute_error( y2, pred_Y))"
   ]
  },
  {
   "cell_type": "code",
   "execution_count": 981,
   "id": "5a55d024-8537-4a49-99f8-0d26828a9cf3",
   "metadata": {},
   "outputs": [
    {
     "name": "stdout",
     "output_type": "stream",
     "text": [
      "Training Accuracy :  0.36945123716579775\n"
     ]
    }
   ],
   "source": [
    "X2 = vase2.iloc[0:2058,6:10].values\n",
    "print('Training Accuracy : ',regressor2.score(X_train, y_train))"
   ]
  },
  {
   "cell_type": "code",
   "execution_count": 982,
   "id": "74d73432-9c8e-4160-b2ac-81c7470adb94",
   "metadata": {},
   "outputs": [
    {
     "name": "stdout",
     "output_type": "stream",
     "text": [
      " 3. Lasso Regression \n"
     ]
    }
   ],
   "source": [
    "print(\" 3. Lasso Regression \" )"
   ]
  },
  {
   "cell_type": "code",
   "execution_count": 983,
   "id": "d3f1d8f1-6809-4a18-905a-868c5ed5cf2e",
   "metadata": {},
   "outputs": [],
   "source": [
    "regression3 = Lasso(alpha=0.5)\n",
    "regression3.fit(X_train, y_train)\n",
    "y2=vase2.iloc[0:882,-2].values"
   ]
  },
  {
   "cell_type": "code",
   "execution_count": 984,
   "id": "e41b2ad1-c43a-4c55-b6b9-2290b5ea022c",
   "metadata": {},
   "outputs": [],
   "source": [
    "predict_Y = regression3.predict(X_test)"
   ]
  },
  {
   "cell_type": "code",
   "execution_count": 970,
   "id": "219ccec8-290a-4e95-bf0e-b363501199da",
   "metadata": {},
   "outputs": [
    {
     "name": "stdout",
     "output_type": "stream",
     "text": [
      "CV Score --> -0.003331682312758133\n",
      "RMSE --> 0.021530780900378937\n"
     ]
    }
   ],
   "source": [
    "cv_score = cross_val_score(regression3, X_train, y_train, cv=10)\n",
    "print(f\"CV Score --> {np.mean(cv_score)}\")\n",
    "rmse = mean_squared_error(y2, predict_Y, squared=False)\n",
    "print(f\"RMSE --> {rmse}\")"
   ]
  },
  {
   "cell_type": "code",
   "execution_count": 985,
   "id": "bb2d4a0b-b327-4ee7-b1e5-88df5f06841d",
   "metadata": {},
   "outputs": [
    {
     "name": "stdout",
     "output_type": "stream",
     "text": [
      "Mean Absolute Error :  0.020942772534777075\n"
     ]
    }
   ],
   "source": [
    "print('Mean Absolute Error : ', mean_absolute_error(predict_Y, y2))"
   ]
  },
  {
   "cell_type": "code",
   "execution_count": 986,
   "id": "b25e62b5-b9f2-4f83-b4e0-8ffcfe87fe84",
   "metadata": {},
   "outputs": [
    {
     "name": "stdout",
     "output_type": "stream",
     "text": [
      "Training Accuracy :  0.0\n"
     ]
    }
   ],
   "source": [
    "X2=vase2.iloc[0:2058,6:10].values\n",
    "print('Training Accuracy : ',regression3.score(X_train, y_train))"
   ]
  },
  {
   "cell_type": "code",
   "execution_count": 987,
   "id": "6f752656-8f62-46c4-8921-29e06c04550b",
   "metadata": {},
   "outputs": [
    {
     "name": "stdout",
     "output_type": "stream",
     "text": [
      " 4. Xgboost Regression \n"
     ]
    }
   ],
   "source": [
    "print(\" 4. Xgboost Regression \")"
   ]
  },
  {
   "cell_type": "code",
   "execution_count": 988,
   "id": "b001fc89-5362-45ce-b348-fd4fa28a7aae",
   "metadata": {},
   "outputs": [
    {
     "data": {
      "text/plain": [
       "XGBRegressor(base_score=0.5, booster='gbtree', callbacks=None,\n",
       "             colsample_bylevel=1, colsample_bynode=1, colsample_bytree=1,\n",
       "             early_stopping_rounds=None, enable_categorical=False,\n",
       "             eval_metric=None, feature_types=None, gamma=0, gpu_id=-1,\n",
       "             grow_policy='depthwise', importance_type=None,\n",
       "             interaction_constraints='', learning_rate=0.300000012, max_bin=256,\n",
       "             max_cat_threshold=64, max_cat_to_onehot=4, max_delta_step=0,\n",
       "             max_depth=6, max_leaves=0, min_child_weight=1, missing=nan,\n",
       "             monotone_constraints='()', n_estimators=100, n_jobs=0,\n",
       "             num_parallel_tree=1, predictor='auto', random_state=0, ...)"
      ]
     },
     "execution_count": 988,
     "metadata": {},
     "output_type": "execute_result"
    }
   ],
   "source": [
    "import seaborn as sns\n",
    "plt.style.use(\"ggplot\")\n",
    "import os\n",
    "from xgboost import XGBRegressor\n",
    "\n",
    "my_model = XGBRegressor()\n",
    "my_model.fit(X_train, y_train)"
   ]
  },
  {
   "cell_type": "code",
   "execution_count": 989,
   "id": "c39d8e45-2852-4e27-8563-640e4a5b1b7b",
   "metadata": {},
   "outputs": [
    {
     "name": "stdout",
     "output_type": "stream",
     "text": [
      "Mean Absolute Error: 0.0018433920745135975\n"
     ]
    }
   ],
   "source": [
    "from sklearn.metrics import mean_absolute_error\n",
    "predictions = my_model.predict(X_test)\n",
    "print(\"Mean Absolute Error: \" + str(mean_absolute_error(predictions, y_test)))"
   ]
  },
  {
   "cell_type": "code",
   "execution_count": 990,
   "id": "9af3095f-f960-4a56-890c-d36db32e4900",
   "metadata": {},
   "outputs": [
    {
     "data": {
      "text/plain": [
       "XGBRegressor(base_score=0.5, booster='gbtree', callbacks=None,\n",
       "             colsample_bylevel=1, colsample_bynode=1, colsample_bytree=1,\n",
       "             early_stopping_rounds=None, enable_categorical=False,\n",
       "             eval_metric=None, feature_types=None, gamma=0, gpu_id=-1,\n",
       "             grow_policy='depthwise', importance_type=None,\n",
       "             interaction_constraints='', learning_rate=0.300000012, max_bin=256,\n",
       "             max_cat_threshold=64, max_cat_to_onehot=4, max_delta_step=0,\n",
       "             max_depth=6, max_leaves=0, min_child_weight=1, missing=nan,\n",
       "             monotone_constraints='()', n_estimators=500, n_jobs=0,\n",
       "             num_parallel_tree=1, predictor='auto', random_state=0, ...)"
      ]
     },
     "execution_count": 990,
     "metadata": {},
     "output_type": "execute_result"
    }
   ],
   "source": [
    "my_model = XGBRegressor(n_estimators=500)\n",
    "my_model.fit(X_train, y_train)"
   ]
  },
  {
   "cell_type": "code",
   "execution_count": 991,
   "id": "c25277f7-0cea-47b5-a1a0-113663cd9550",
   "metadata": {},
   "outputs": [
    {
     "name": "stdout",
     "output_type": "stream",
     "text": [
      "Training Accuracy :  0.9306574663951472\n"
     ]
    }
   ],
   "source": [
    "print('Training Accuracy : ',my_model.score(X_train, y_train))"
   ]
  },
  {
   "cell_type": "code",
   "execution_count": null,
   "id": "84597a53-958d-4c18-b37c-e64c4b0027aa",
   "metadata": {},
   "outputs": [],
   "source": []
  }
 ],
 "metadata": {
  "kernelspec": {
   "display_name": "Python 3 (ipykernel)",
   "language": "python",
   "name": "python3"
  },
  "language_info": {
   "codemirror_mode": {
    "name": "ipython",
    "version": 3
   },
   "file_extension": ".py",
   "mimetype": "text/x-python",
   "name": "python",
   "nbconvert_exporter": "python",
   "pygments_lexer": "ipython3",
   "version": "3.9.13"
  }
 },
 "nbformat": 4,
 "nbformat_minor": 5
}
